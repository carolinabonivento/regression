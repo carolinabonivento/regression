{
 "cells": [
  {
   "cell_type": "code",
   "execution_count": 1,
   "metadata": {
    "collapsed": true
   },
   "outputs": [],
   "source": [
    "import pandas as pd\n",
    "import numpy as np\n",
    "from numpy import linalg as ln\n",
    "from numpy.linalg import inv\n",
    "import sys\n",
    "import scipy\n",
    "from scipy import stats"
   ]
  },
  {
   "cell_type": "code",
   "execution_count": 2,
   "metadata": {
    "collapsed": true
   },
   "outputs": [],
   "source": [
    "#Select columns and rows\n",
    "\n",
    "def filter (data, i_start, i_end, j_start, j_end):\n",
    "    tmp=[[data [i][j] for j in range(j_start,j_end)]for i in range(i_start,i_end)]\n",
    "    printing(tmp)\n",
    "    return(tmp)\n",
    "\n",
    "#Select columns\n",
    "\n",
    "def sel_col (data, idx):\n",
    "    tmp=[data[i] for i in range(idx+1)]\n",
    "    print(tmp)\n",
    "    return(tmp)\n",
    "\n",
    "#Sorting algorithm (insert sort)\n",
    "\n",
    "def _sort (x):\n",
    "    for i in range (len(x)):\n",
    "        for j in range(len(x[0])-1):\n",
    "            idx=j+1\n",
    "            while x[i][idx] < x[i][idx-1]:\n",
    "                \n",
    "                tmp=x[i][idx]\n",
    "            \n",
    "                x[i][idx]=x[i][idx-1]\n",
    "            \n",
    "                x[i][idx-1]=tmp\n",
    "            \n",
    "                if idx >1:\n",
    "                \n",
    "                    idx=idx-1\n",
    "    return(x)\n",
    "\n",
    "# Stats\n",
    "\n",
    "def avg (x,n,vars):\n",
    "    tmp=[sum(x[i])/n for i in range(vars)]\n",
    "    print(tmp)\n",
    "    return(rmp)\n",
    "\n",
    "def sd (x, vars):\n",
    "    tmp= [np.std(x[i]) for i in range(vars)]\n",
    "    print(tmp)\n",
    "    return(tmp)\n",
    "\n",
    "def sum_squares (x, mean):\n",
    "    sq=[0]\n",
    "    for i in range(len(x)):\n",
    "        for j in range(len(x[0])):\n",
    "            sq += (x[i][j]-mean)**2\n",
    "\n",
    "    printing(sq)\n",
    "    return(sq)\n",
    "\n",
    "def f_stat (R2f,R2r, dfr, dff):\n",
    "    tmp=[((R2f-R2r)/(dfr-dff))/((1-R2f)/dff)]\n",
    "    print(tmp)\n",
    "    return(tmp)\n",
    "\n",
    "#Matrix transpose and matrix-matrix multiplication\n",
    "\n",
    "def transpose (matrix, col, row):\n",
    "    tmp=[[matrix [j][i] for j in range(col)] for i in range(row)]\n",
    "    printing(tmp)\n",
    "    return(tmp)\n",
    "\n",
    "def mul(xx_matrix, xy_matrix):\n",
    "    mul=[[0 for j in range(len(xx_matrix[0]))] for i in range(len(xy_matrix))]\n",
    "    for i in range(len(xy_matrix)):\n",
    "        for j in range(len(xx_matrix[0])):\n",
    "            for k in range(len(xx_matrix)):\n",
    "                mul[i][j]+= xx_matrix[k][j]*xy_matrix[i][k]\n",
    "    printing(mul)\n",
    "    return(mul)\n",
    "\n",
    "#Eigen vector\n",
    "\n",
    "def eigen (matrix):\n",
    "    \n",
    "    e_tmp= ln.eig(matrix)\n",
    "    tmp=[[e_tmp[i][j] for j in range(len(e_tmp[0]))] for i in range(1)]\n",
    "    print(\"** maximum eigenvector - not sorted **\")\n",
    "    printing(tmp)\n",
    "    print(\"\")\n",
    "    s_tmp=_sort(tmp)\n",
    "    print(\"** maximum eigenvector sorted **\")\n",
    "    printing (s_tmp)\n",
    "    return(s_tmp)\n",
    "\n",
    "#Divide matrix elements by a scalar\n",
    "\n",
    "def divide(matrix,scalar):\n",
    "    tmp=[[matrix[i][j]/scalar for j in range(len(matrix[0]))] for i in range(len(matrix))]\n",
    "    printing(tmp)\n",
    "    return(tmp)\n",
    "\n",
    "# Subtract element by element of two matrices\n",
    "\n",
    "def diff(mat_1, mat_2):\n",
    "    tmp=[[mat_1[i][j]-mat_2[i][j] for j in range(len(mat_1[0]))] for i in range(len(mat_1))]\n",
    "    printing(tmp)\n",
    "    return(tmp)\n",
    "\n",
    "#Printing with %8.12f numbers' format\n",
    "\n",
    "def printing (matrix):\n",
    "    print([[\"%8.2f\" % matrix[i][j] for j in range(len(matrix[0]))]for i in range(len(matrix))])"
   ]
  },
  {
   "cell_type": "code",
   "execution_count": 3,
   "metadata": {},
   "outputs": [
    {
     "name": "stdout",
     "output_type": "stream",
     "text": [
      "   0   1   2  3  4  5   6   7  8  9\n",
      "0  1  26  18  2  4  1  26  18  2  4\n",
      "1  0  41  18  5  8  0  41  18  5  8\n",
      "2  0  32  26  5  3  0  32  26  5  3\n",
      "3  1   4   7  9  8  1   4   7  9  8\n",
      "4  3   4   5  6  7  3   4   5  6  7\n",
      "5  3   4   5  6  7  3   4   5  6  7\n"
     ]
    }
   ],
   "source": [
    "data=pd.read_csv('data.txt',header= None)\n",
    "print(data)"
   ]
  },
  {
   "cell_type": "code",
   "execution_count": 4,
   "metadata": {},
   "outputs": [
    {
     "name": "stdout",
     "output_type": "stream",
     "text": [
      "X  matrix\n",
      "[['    1.00', '    0.00', '    0.00'], ['   26.00', '   41.00', '   32.00'], ['   18.00', '   18.00', '   26.00'], ['    2.00', '    5.00', '    5.00'], ['    4.00', '    8.00', '    3.00'], ['    1.00', '    0.00', '    0.00'], ['   26.00', '   41.00', '   32.00'], ['   18.00', '   18.00', '   26.00'], ['    2.00', '    5.00', '    5.00'], ['    4.00', '    8.00', '    3.00']]\n",
      "\n",
      "Y  matrix\n",
      "[['    1.00', '    3.00', '    3.00'], ['    4.00', '    4.00', '    4.00']]\n",
      "\n"
     ]
    }
   ],
   "source": [
    "print(\"X  matrix\")\n",
    "x= filter (data, 0, data.shape[1], 0, data.shape[0]-3)\n",
    "print(\"\")\n",
    "\n",
    "print(\"Y  matrix\")\n",
    "y= filter (data, 0, 2, 3, data.shape[0])\n",
    "print(\"\")\n"
   ]
  },
  {
   "cell_type": "code",
   "execution_count": 5,
   "metadata": {},
   "outputs": [
    {
     "name": "stdout",
     "output_type": "stream",
     "text": [
      "transposed x matrix\n",
      "[['    1.00', '   26.00', '   18.00', '    2.00', '    4.00', '    1.00', '   26.00', '   18.00', '    2.00', '    4.00'], ['    0.00', '   41.00', '   18.00', '    5.00', '    8.00', '    0.00', '   41.00', '   18.00', '    5.00', '    8.00'], ['    0.00', '   32.00', '   26.00', '    5.00', '    3.00', '    0.00', '   32.00', '   26.00', '    5.00', '    3.00']]\n",
      "\n"
     ]
    }
   ],
   "source": [
    "print(\"transposed x matrix\")\n",
    "tx= transpose (x, len(x),len(x[0]))\n",
    "print(\"\")"
   ]
  },
  {
   "cell_type": "code",
   "execution_count": 6,
   "metadata": {},
   "outputs": [
    {
     "name": "stdout",
     "output_type": "stream",
     "text": [
      "s= mat mul xt * y\n",
      "[['    1.00', '  245.00', '  150.00', '   32.00', '   37.00', '    1.00', '  245.00', '  150.00', '   32.00', '   37.00'], ['    4.00', '  396.00', '  248.00', '   48.00', '   60.00', '    4.00', '  396.00', '  248.00', '   48.00', '   60.00']]\n",
      "\n",
      "transposed s matrix\n",
      "[['    1.00', '    4.00'], ['  245.00', '  396.00'], ['  150.00', '  248.00'], ['   32.00', '   48.00'], ['   37.00', '   60.00'], ['    1.00', '    4.00'], ['  245.00', '  396.00'], ['  150.00', '  248.00'], ['   32.00', '   48.00'], ['   37.00', '   60.00']]\n",
      "\n",
      "ss= s * st\n",
      "[['   17.00', ' 1829.00', ' 1142.00', '  224.00', '  277.00', '   17.00', ' 1829.00', ' 1142.00', '  224.00', '  277.00'], [' 1829.00', '216841.00', '134958.00', '26848.00', '32825.00', ' 1829.00', '216841.00', '134958.00', '26848.00', '32825.00'], [' 1142.00', '134958.00', '84004.00', '16704.00', '20430.00', ' 1142.00', '134958.00', '84004.00', '16704.00', '20430.00'], ['  224.00', '26848.00', '16704.00', ' 3328.00', ' 4064.00', '  224.00', '26848.00', '16704.00', ' 3328.00', ' 4064.00'], ['  277.00', '32825.00', '20430.00', ' 4064.00', ' 4969.00', '  277.00', '32825.00', '20430.00', ' 4064.00', ' 4969.00'], ['   17.00', ' 1829.00', ' 1142.00', '  224.00', '  277.00', '   17.00', ' 1829.00', ' 1142.00', '  224.00', '  277.00'], [' 1829.00', '216841.00', '134958.00', '26848.00', '32825.00', ' 1829.00', '216841.00', '134958.00', '26848.00', '32825.00'], [' 1142.00', '134958.00', '84004.00', '16704.00', '20430.00', ' 1142.00', '134958.00', '84004.00', '16704.00', '20430.00'], ['  224.00', '26848.00', '16704.00', ' 3328.00', ' 4064.00', '  224.00', '26848.00', '16704.00', ' 3328.00', ' 4064.00'], ['  277.00', '32825.00', '20430.00', ' 4064.00', ' 4969.00', '  277.00', '32825.00', '20430.00', ' 4064.00', ' 4969.00']]\n",
      "\n",
      "w = eigen max (ss)\n",
      "** maximum eigenvector - not sorted **\n",
      "[['618293.70', '   24.30', '    0.00', '   -0.00', '    0.00', '    0.00', '   -0.00', '    0.00', '    0.00', '   -0.00']]\n",
      "\n",
      "** maximum eigenvector sorted **\n",
      "[['   -0.00', '   -0.00', '   -0.00', '    0.00', '    0.00', '    0.00', '    0.00', '    0.00', '   24.30', '618293.70']]\n",
      "\n",
      "1 10\n"
     ]
    }
   ],
   "source": [
    "    #matrix multiplication\n",
    "    print(\"s= mat mul xt * y\")\n",
    "    s=mul (tx,y)\n",
    "    print(\"\")\n",
    "\n",
    "    #transpose s\n",
    "    print(\"transposed s matrix\")\n",
    "    st= transpose (s, len(s), len(s[0]))\n",
    "    print(\"\")\n",
    "\n",
    "    #s*st\n",
    "    print(\"ss= s * st\")\n",
    "    ss=mul (s,st)\n",
    "    print(\"\")\n",
    "\n",
    "    #eigen vector\n",
    "    print(\"w = eigen max (ss)\")\n",
    "    w=eigen(ss)\n",
    "    print(\"\")\n",
    "    print(len(w), len(w[0]))"
   ]
  },
  {
   "cell_type": "code",
   "execution_count": 7,
   "metadata": {},
   "outputs": [
    {
     "data": {
      "text/plain": [
       "list"
      ]
     },
     "execution_count": 7,
     "metadata": {},
     "output_type": "execute_result"
    }
   ],
   "source": [
    "type(w)"
   ]
  }
 ],
 "metadata": {
  "kernelspec": {
   "display_name": "Python 3",
   "language": "python",
   "name": "python3"
  },
  "language_info": {
   "codemirror_mode": {
    "name": "ipython",
    "version": 3
   },
   "file_extension": ".py",
   "mimetype": "text/x-python",
   "name": "python",
   "nbconvert_exporter": "python",
   "pygments_lexer": "ipython3",
   "version": "3.6.3"
  }
 },
 "nbformat": 4,
 "nbformat_minor": 2
}
