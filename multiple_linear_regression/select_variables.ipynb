{
 "cells": [
  {
   "cell_type": "code",
   "execution_count": 1,
   "metadata": {
    "collapsed": true
   },
   "outputs": [],
   "source": [
    "import pandas as pd\n"
   ]
  },
  {
   "cell_type": "code",
   "execution_count": 2,
   "metadata": {
    "collapsed": true
   },
   "outputs": [],
   "source": [
    "data=pd.read_csv('dat_dat.txt',header= None)"
   ]
  },
  {
   "cell_type": "code",
   "execution_count": 3,
   "metadata": {},
   "outputs": [
    {
     "name": "stdout",
     "output_type": "stream",
     "text": [
      "4\n",
      "5\n",
      "[[3, 2, 4, 5, 8], [2, 3, 5, 7, 8], [1, 5, 3, 6, 7], [99, 77, 44, 11, 22]]\n"
     ]
    }
   ],
   "source": [
    "row=data.shape[0]\n",
    "col=data.shape[1]\n",
    "\n",
    "\n",
    "tmp=[[3, 2, 4, 5, 8], [2, 3, 5, 7, 8], [1, 5, 3, 6, 7], [99,77, 44, 11, 22]]\n",
    "row=len(tmp)\n",
    "col=len(tmp[0])\n",
    "print(row)\n",
    "print(col)\n",
    "print(tmp)"
   ]
  },
  {
   "cell_type": "code",
   "execution_count": 4,
   "metadata": {},
   "outputs": [
    {
     "name": "stdout",
     "output_type": "stream",
     "text": [
      "[2, 3, 5, 7, 8, 1, 5, 3, 6, 7, 99, 77, 44, 11, 22]\n",
      "15\n",
      "[[2, 3, 5, 7, 8], [1, 5, 3, 6, 7], [99, 77, 44, 11, 22]]\n"
     ]
    }
   ],
   "source": [
    "import numpy as np\n",
    "\n",
    "buf=[]\n",
    "for i in range(row):\n",
    "    for j in range(col): \n",
    "        if i!=0:\n",
    "            buf.append(tmp[i][j])\n",
    "print(buf)\n",
    "print(len(buf))\n",
    "        \n",
    "dd=[[buf[(i*col)+j] for j in range (col)] for i in range(row-1)]\n",
    "\n",
    "print(dd)   "
   ]
  },
  {
   "cell_type": "code",
   "execution_count": 7,
   "metadata": {},
   "outputs": [
    {
     "name": "stdout",
     "output_type": "stream",
     "text": [
      "[[2, 3, 5, 7, 8], [1, 5, 3, 6, 7], [99, 77, 44, 11, 22]]\n"
     ]
    }
   ],
   "source": [
    "buf1=[tmp[i] for i in range(row) if i!=0]\n",
    "print(buf1)"
   ]
  },
  {
   "cell_type": "code",
   "execution_count": null,
   "metadata": {
    "collapsed": true
   },
   "outputs": [],
   "source": []
  }
 ],
 "metadata": {
  "kernelspec": {
   "display_name": "Python 3",
   "language": "python",
   "name": "python3"
  },
  "language_info": {
   "codemirror_mode": {
    "name": "ipython",
    "version": 3
   },
   "file_extension": ".py",
   "mimetype": "text/x-python",
   "name": "python",
   "nbconvert_exporter": "python",
   "pygments_lexer": "ipython3",
   "version": "3.6.3"
  }
 },
 "nbformat": 4,
 "nbformat_minor": 2
}
